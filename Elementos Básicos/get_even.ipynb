{
 "cells": [
  {
   "cell_type": "code",
   "execution_count": 24,
   "metadata": {},
   "outputs": [],
   "source": [
    "def get_even_date(event):\n",
    "    return event.date()\n",
    "\n",
    "def current_users(events):\n",
    "    events.sort(key=get_even_date) \n",
    "    machines = {}\n",
    "    for event in events:\n",
    "        if event.machine not in machines:\n",
    "            machines[event.machine] = set()\n",
    "        if event.type == \"login\":\n",
    "            machines[event.machine].add(event.user)\n",
    "        elif event.type == \"logout\":\n",
    "            machines[event.machine].remove(event.user)\n",
    "    return machines\n",
    "\n",
    "def generate_report(machines):\n",
    "    for machine, users in machines.items():\n",
    "        if len(users) > 0:\n",
    "            user_list = \", \".join(users)\n",
    "            print(\"{} : {}\".format(machine, user_list))\n",
    "            \n"
   ]
  },
  {
   "cell_type": "markdown",
   "metadata": {},
   "source": [
    "To use this code, we´ll use the following event class:"
   ]
  },
  {
   "cell_type": "code",
   "execution_count": 25,
   "metadata": {},
   "outputs": [],
   "source": [
    "class Event:\n",
    "    def __init__(self, event_date, event_type, machine_name, user):\n",
    "        self.date = event_date\n",
    "        self.type = event_type\n",
    "        self.machine = machine_name\n",
    "        self.user = user"
   ]
  },
  {
   "cell_type": "markdown",
   "metadata": {},
   "source": [
    "Are are some samples to check that the code runs correctly:"
   ]
  },
  {
   "cell_type": "code",
   "execution_count": 26,
   "metadata": {},
   "outputs": [],
   "source": [
    "events = [  \n",
    "        Event(\"2020-01-01 08:00:00\", \"login\", \"pc1\", \"user1\"),\n",
    "        Event('2020-01-01 09:00:00', 'logout', 'myworkstation.loc', 'jordan'),\n",
    "        Event('2020-01-01 11:30:00', 'login', 'myworkstation.loc', 'jordan'),\n",
    "        Event('2020-01-01 12:00:00', 'logout', 'myworkstation.loc', 'jordan'),\n",
    "        Event('2020-01-01 13:00:00', 'login', 'myworkstation.loc', 'jordan'),\n",
    "        Event('2020-01-01 13:30:00', 'logout', 'myworkstation.loc', 'jordan'),\n",
    "        Event('2020-01-01 17:00:00', 'login', 'myworkstation.loc', 'jordan'),\n",
    "        Event('2020-01-01 18:00:00', 'logout', 'myworkstation.loc', 'jordan'),\n",
    "        Event('2020-01-01 23:59:59', 'logout', 'myworkstation.loc', 'jordan')]\n",
    "                                        "
   ]
  },
  {
   "cell_type": "markdown",
   "metadata": {},
   "source": [
    "Now, lets call the code and verify thath is does what is sould"
   ]
  },
  {
   "cell_type": "code",
   "execution_count": null,
   "metadata": {},
   "outputs": [],
   "source": [
    "users = current_users(events)\n",
    "print(users)\n"
   ]
  },
  {
   "cell_type": "code",
   "execution_count": null,
   "metadata": {},
   "outputs": [],
   "source": [
    "generate_report(users)"
   ]
  }
 ],
 "metadata": {
  "kernelspec": {
   "display_name": "Python 3.10.4 64-bit",
   "language": "python",
   "name": "python3"
  },
  "language_info": {
   "codemirror_mode": {
    "name": "ipython",
    "version": 3
   },
   "file_extension": ".py",
   "mimetype": "text/x-python",
   "name": "python",
   "nbconvert_exporter": "python",
   "pygments_lexer": "ipython3",
   "version": "3.10.4"
  },
  "orig_nbformat": 4,
  "vscode": {
   "interpreter": {
    "hash": "369f2c481f4da34e4445cda3fffd2e751bd1c4d706f27375911949ba6bb62e1c"
   }
  }
 },
 "nbformat": 4,
 "nbformat_minor": 2
}
