{
 "cells": [
  {
   "cell_type": "markdown",
   "metadata": {},
   "source": [
    "Code Reuse"
   ]
  },
  {
   "cell_type": "markdown",
   "metadata": {},
   "source": [
    "Let’s put what we learned about code reuse all together.\n",
    "\n",
    "First, let’s look back at inheritance. Run the following cell that defines a generic Animal class."
   ]
  },
  {
   "cell_type": "code",
   "execution_count": 1,
   "metadata": {},
   "outputs": [],
   "source": [
    "class Animal:\n",
    "    name = \"\"\n",
    "    category = \"\"\n",
    "    \n",
    "    def __init__(self, name):\n",
    "        self.name = name\n",
    "    \n",
    "    def set_category(self, category):\n",
    "        self.category = category"
   ]
  },
  {
   "cell_type": "markdown",
   "metadata": {},
   "source": [
    "What we have is not enough to do much -- yet. That’s where you come in.\n",
    "\n",
    "In the next cell, define a Turtle class that inherits from the Animal class. Then go ahead and set its category. For instance, a turtle is generally considered a reptile. Although modern cladistics call this categorization into question, for purposes of this exercise we will say turtles are reptiles!"
   ]
  },
  {
   "cell_type": "code",
   "execution_count": 4,
   "metadata": {},
   "outputs": [
    {
     "ename": "AttributeError",
     "evalue": "'Turtle' object has no attribute 'get_name'",
     "output_type": "error",
     "traceback": [
      "\u001b[1;31m---------------------------------------------------------------------------\u001b[0m",
      "\u001b[1;31mAttributeError\u001b[0m                            Traceback (most recent call last)",
      "\u001b[1;32mc:\\Users\\user\\Desktop\\Proyectos Python\\Elementos Básicos\\turtle.ipynb Celda 5\u001b[0m in \u001b[0;36m<cell line: 16>\u001b[1;34m()\u001b[0m\n\u001b[0;32m     <a href='vscode-notebook-cell:/c%3A/Users/user/Desktop/Proyectos%20Python/Elementos%20B%C3%A1sicos/turtle.ipynb#ch0000004?line=12'>13</a>\u001b[0m         \u001b[39mself\u001b[39m\u001b[39m.\u001b[39mset_category(\u001b[39m\"\u001b[39m\u001b[39mReptile\u001b[39m\u001b[39m\"\u001b[39m)\n\u001b[0;32m     <a href='vscode-notebook-cell:/c%3A/Users/user/Desktop/Proyectos%20Python/Elementos%20B%C3%A1sicos/turtle.ipynb#ch0000004?line=14'>15</a>\u001b[0m Turtle \u001b[39m=\u001b[39m Turtle(\u001b[39m\"\u001b[39m\u001b[39mTurtle\u001b[39m\u001b[39m\"\u001b[39m)\n\u001b[1;32m---> <a href='vscode-notebook-cell:/c%3A/Users/user/Desktop/Proyectos%20Python/Elementos%20B%C3%A1sicos/turtle.ipynb#ch0000004?line=15'>16</a>\u001b[0m \u001b[39mprint\u001b[39m(Turtle\u001b[39m.\u001b[39;49mget_name())\n\u001b[0;32m     <a href='vscode-notebook-cell:/c%3A/Users/user/Desktop/Proyectos%20Python/Elementos%20B%C3%A1sicos/turtle.ipynb#ch0000004?line=16'>17</a>\u001b[0m \u001b[39mprint\u001b[39m(Turtle\u001b[39m.\u001b[39mget_category())\n\u001b[0;32m     <a href='vscode-notebook-cell:/c%3A/Users/user/Desktop/Proyectos%20Python/Elementos%20B%C3%A1sicos/turtle.ipynb#ch0000004?line=17'>18</a>\u001b[0m \u001b[39mprint\u001b[39m(Turtle)\n",
      "\u001b[1;31mAttributeError\u001b[0m: 'Turtle' object has no attribute 'get_name'"
     ]
    }
   ],
   "source": [
    "    def get_category(self):\n",
    "        return self.category\n",
    "\n",
    "    def get_name(self):\n",
    "        return self.name\n",
    "    \n",
    "    def __str__(self):\n",
    "        return \"Animal: \" + self.name + \" \" + self.category\n",
    "    \n",
    "class Turtle(Animal):\n",
    "        def __init__(self, name):\n",
    "            super().__init__(name)\n",
    "            self.set_category(\"Reptile\")\n",
    "        \n",
    "Turtle = Turtle(\"Turtle\")\n",
    "print(Turtle.get_name())\n",
    "print(Turtle.get_category())\n",
    "print(Turtle)      \n",
    "    "
   ]
  },
  {
   "cell_type": "markdown",
   "metadata": {},
   "source": [
    "Run the following cell to check whether you correctly defined your Turtle class and set its category to reptile."
   ]
  },
  {
   "cell_type": "code",
   "execution_count": 12,
   "metadata": {},
   "outputs": [
    {
     "ename": "NameError",
     "evalue": "name 'Turtle' is not defined",
     "output_type": "error",
     "traceback": [
      "\u001b[1;31m---------------------------------------------------------------------------\u001b[0m",
      "\u001b[1;31mNameError\u001b[0m                                 Traceback (most recent call last)",
      "\u001b[1;32mc:\\Users\\user\\Desktop\\Proyectos Python\\Elementos Básicos\\turtle.ipynb Celda 7\u001b[0m in \u001b[0;36m<cell line: 1>\u001b[1;34m()\u001b[0m\n\u001b[1;32m----> <a href='vscode-notebook-cell:/c%3A/Users/user/Desktop/Proyectos%20Python/Elementos%20B%C3%A1sicos/turtle.ipynb#ch0000011?line=0'>1</a>\u001b[0m \u001b[39mprint\u001b[39m(Turtle\u001b[39m.\u001b[39mcategory)\n",
      "\u001b[1;31mNameError\u001b[0m: name 'Turtle' is not defined"
     ]
    }
   ],
   "source": [
    "print(Turtle.category)"
   ]
  },
  {
   "cell_type": "markdown",
   "metadata": {},
   "source": [
    "Was the output of the above cell reptile? If not, go back and edit your Turtle class making sure that it inherits from the Animal class and its category is properly set to reptile. Be sure to re-run that cell once you've finished your edits. Did you get it? If so, great!\n",
    "\n",
    "Next, let’s practice composition a little bit. This one will require a second type of Animal that is in the same category as the first. For example, since you already created a Turtle class, go ahead and create a Snake class. Don’t forget that it also inherits from the Animal class and that its category should be set to reptile."
   ]
  },
  {
   "cell_type": "code",
   "execution_count": null,
   "metadata": {},
   "outputs": [],
   "source": [
    "                "
   ]
  },
  {
   "cell_type": "markdown",
   "metadata": {},
   "source": [
    "Now, let’s say we have a large variety of Animals (such as turtles and snakes) in a Zoo. Below we have the Zoo class. We’re going to use it to organize our various Animals. Remember, inheritance says a Turtle is an Animal, but a Zoo is not an Animal and an Animal is not a Zoo -- though they are related to one another."
   ]
  },
  {
   "cell_type": "markdown",
   "metadata": {},
   "source": [
    "Fill in the blanks of the Zoo class below so that you can use zoo.add_animal( ) to add instances of the Animal subclasses you created above. Once you’ve added them all, you should be able to use zoo.total_of_category( ) to tell you exactly how many individual Animal types the Zoo has for each category! Be sure to run the cell once you've finished your edits."
   ]
  },
  {
   "cell_type": "code",
   "execution_count": null,
   "metadata": {},
   "outputs": [],
   "source": [
    "class Zoo:\n",
    "    def __init__(self):\n",
    "        self.current_animals = {}\n",
    "    \n",
    "    def add_animal(self, animal):\n",
    "        self.current_animals[animal.name] = animal.category\n",
    "    \n",
    "    def total_of_category(self, category):\n",
    "        result = 0\n",
    "        for animal in self.___.values():\n",
    "            if ___ == category:\n",
    "                result += 1\n",
    "        return result\n",
    "\n",
    "zoo = Zoo()"
   ]
  },
  {
   "cell_type": "markdown",
   "metadata": {},
   "source": [
    "Run the following cell to check whether you properly filled in the blanks of your Zoo class."
   ]
  },
  {
   "cell_type": "code",
   "execution_count": null,
   "metadata": {},
   "outputs": [],
   "source": [
    "turtle = Turtle(\"Turtle\") #create an instance of the Turtle class\n",
    "snake = Snake(\"Snake\") #create an instance of the Snake class\n",
    "\n",
    "zoo.add_animal(turtle)\n",
    "zoo.add_animal(snake)\n",
    "\n",
    "print(zoo.total_of_category(\"reptile\")) #how many zoo animal types in the reptile category"
   ]
  },
  {
   "cell_type": "markdown",
   "metadata": {},
   "source": [
    "Was the output of the above cell 2? If not, go back and edit the Zoo class making sure to fill in the blanks with the appropriate attributes. Be sure to re-run that cell once you've finished your edits.\n",
    "\n",
    "Did you get it? If so, perfect! You have successfully defined your Turtle and Snake subclasses as well as your Zoo class. You are all done with this notebook. Great work!"
   ]
  }
 ],
 "metadata": {
  "kernelspec": {
   "display_name": "Python 3.10.4 64-bit",
   "language": "python",
   "name": "python3"
  },
  "language_info": {
   "codemirror_mode": {
    "name": "ipython",
    "version": 3
   },
   "file_extension": ".py",
   "mimetype": "text/x-python",
   "name": "python",
   "nbconvert_exporter": "python",
   "pygments_lexer": "ipython3",
   "version": "3.10.4"
  },
  "orig_nbformat": 4,
  "vscode": {
   "interpreter": {
    "hash": "369f2c481f4da34e4445cda3fffd2e751bd1c4d706f27375911949ba6bb62e1c"
   }
  }
 },
 "nbformat": 4,
 "nbformat_minor": 2
}
